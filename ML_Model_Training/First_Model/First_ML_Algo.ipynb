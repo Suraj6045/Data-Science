{
 "cells": [
  {
   "cell_type": "code",
   "execution_count": 1,
   "id": "b8ead9c5-4be3-4f40-9442-4ecefb9d9a69",
   "metadata": {},
   "outputs": [],
   "source": [
    "import numpy as np\n",
    "from sklearn import tree"
   ]
  },
  {
   "cell_type": "code",
   "execution_count": 2,
   "id": "7060fa39-ef1f-4725-9933-933a17ede2da",
   "metadata": {},
   "outputs": [
    {
     "name": "stdout",
     "output_type": "stream",
     "text": [
      "['orange']\n"
     ]
    }
   ],
   "source": [
    "data = [ [150 , 1] ,\n",
    "         [180 , 1] ,\n",
    "         [200 , 1] ,\n",
    "         [100 , 0] ,\n",
    "         [120 , 0] ,\n",
    "         [70 , 0] ]\n",
    "label = [\"apple\" , \"apple\" , \"apple\" , \"orange\" , \"orange\" , \"orange\"]\n",
    "\n",
    "model = tree.DecisionTreeClassifier()\n",
    "model.fit(data , label)\n",
    "\n",
    "print(model.predict([[50,0]]))"
   ]
  }
 ],
 "metadata": {
  "kernelspec": {
   "display_name": "Python 3 (ipykernel)",
   "language": "python",
   "name": "python3"
  },
  "language_info": {
   "codemirror_mode": {
    "name": "ipython",
    "version": 3
   },
   "file_extension": ".py",
   "mimetype": "text/x-python",
   "name": "python",
   "nbconvert_exporter": "python",
   "pygments_lexer": "ipython3",
   "version": "3.12.7"
  }
 },
 "nbformat": 4,
 "nbformat_minor": 5
}
