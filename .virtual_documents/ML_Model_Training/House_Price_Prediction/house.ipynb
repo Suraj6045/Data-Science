import pandas as pd
from sklearn.ensemble import RandomForestClassifier


data = pd.read_csv("housing.csv")


dtrain_house_details = data.drop("median_house_value", axis=1)
dtrain_house_price = data.iloc[:16500 , -2]
dtrain_house_details


dtest_house_details = data.iloc[16501: , :-1]
dtest_house_price = data.iloc[16501: , -2]


model = RandomForestClassifier()
model.fit(dtrain_house_details.values , dtrain_house_price.values)


model.predict(dtest_house_details.values)



