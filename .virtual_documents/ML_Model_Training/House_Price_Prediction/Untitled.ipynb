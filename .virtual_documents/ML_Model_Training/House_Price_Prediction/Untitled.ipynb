import pandas as pd
import matplotlib.pyplot as plt


data = pd.read_csv("housing.csv")
data.hist(bins = 5 , figsize = (12 , 8))



