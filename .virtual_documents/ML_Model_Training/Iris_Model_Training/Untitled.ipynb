import pandas as pd


from sklearn.ensemble import RandomForestClassifier


data_train = pd.read_excel("iris-train.xlsx")


x = data_train.iloc[: , :-1]
y = data_train.iloc[: , -1]


model = RandomForestClassifier()
model.fit(x.values , y.values)


data_test = pd.read_excel("iris-test.xlsx")


test = data_test.iloc[: , :-1]


test_result = model.predict(test.values)
test_result



