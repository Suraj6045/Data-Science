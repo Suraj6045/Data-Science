import pandas as pd


from sklearn.ensemble import RandomForestClassifier


data_train = pd.read_excel("iris-train.xlsx")


x = data_train.iloc[: , :-1]
y = data_train.iloc[: , -1]


model = RandomForestClassifier()
model.fit(x.values , y.values)


data_test = pd.read_excel("iris-test.xlsx")


x_test = data_test.iloc[: , :-1]


test_result = model.predict(x_test.values)


y_test = data_test.iloc[: , -1]


count = 0   # counting total correct values
total = 0   # counting total values
j = 0       # pointer to iterate through all values of test_result (result of our model)

for i in y_test.values:
    if i == test_result[j]:
        count += 1
    
    total += 1
    j += 1


accuracy = (count/total)*100
print(accuracy)
