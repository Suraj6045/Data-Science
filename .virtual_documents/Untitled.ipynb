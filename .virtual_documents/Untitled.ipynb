import numpy as np
from sklearn import tree


data = [ [150 , 1] ,
         [180 , 1] ,
         [200 , 1] ,
         [100 , 0] ,
         [120 , 0] ,
         [70 , 0] ]
label = ["apple" , "apple" , "apple" , "orange" , "orange" , "orange"]

model = tree.DecisionTreeClassifier()
model.fit(data , label)

print(model.predict([[50,0]]))






