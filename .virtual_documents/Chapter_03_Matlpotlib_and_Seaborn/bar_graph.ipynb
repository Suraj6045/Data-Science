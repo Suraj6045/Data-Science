import matplotlib.pyplot as plt
years = [1990, 1992, 1994, 1996, 1998, 2000, 2003, 2005, 2007, 2010]
runs = [500, 700, 1100, 1500, 1800, 1200, 1700, 1300, 900, 1500]


plt.bar(years , runs)
plt.xlabel("Year")
plt.ylabel("Runs")
plt.title("Sachin tendulkar runs")


import numpy as np
sachin = [500, 700, 1100, 1500, 1800, 1200, 1700, 1300, 900, 1500]
sehwag = [0, 200, 900, 1400, 1600, 1800, 1500, 1100, 800, 0]
kohli = [0, 0, 500, 800, 1100, 1300, 1500, 1800, 1900, 2100]

x = np.arange(len(years)) # => array from 0 to len(years)-1 
wid = 0.25  #width of each bar
plt.bar(x-wid , sachin , width=wid , label="sachin") 
plt.bar(x , sehwag , width=wid , label="sehwag")
plt.bar(x+wid , kohli , width=wid , label="kohli")
plt.xticks(x,years)   # to replace x in x-axis with years
plt.xlabel("Year")
plt.ylabel("Runs")
plt.title("Comparison of runs")
plt.tight_layout  # prevents titles from overlapping
plt.legend()


players = ["Sachin", "Sehwag", "Kohli"]
runs = [1500, 1600, 1800]
plt.bar(players,runs)
plt.ylabel("Year")
plt.xlabel("Runs")
plt.tight_layout()

# Add labels on top of bars
for i in range(len(players)):
    plt.text(i, runs[i] + 10, str(runs[i]), ha='center') # by this we specified at which coordinate we want to see the text


players = ["Sachin", "Sehwag", "Kohli"]
runs = [1500, 1600, 1800]
plt.barh(players,runs)  # horizontal bar graph
plt.ylabel("Year")
plt.xlabel("Runs")
plt.tight_layout()



