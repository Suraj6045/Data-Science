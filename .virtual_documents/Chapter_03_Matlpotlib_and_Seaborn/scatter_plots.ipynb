import matplotlib.pyplot as plt
study_hours = [1, 2, 3, 4, 5, 6, 7, 8, 9]
exam_scores = [40, 45, 50, 55, 60, 65, 75, 85, 90]
sizes = [score*3 for score in exam_scores]
colors = ["red" if score > 60 else "green" for score in exam_scores]
plt.scatter(study_hours , exam_scores , c = colors , s = sizes)

plt.xlabel("study hours")
plt.ylabel("exam hours")
plt.title("Study Hours Vs Exam Scores")
plt.grid()
plt.show()


import matplotlib.pyplot as plt
study_hours = [1, 2, 3, 4, 5, 6, 7, 8, 9]
exam_scores = [40, 45, 50, 55, 60, 65, 75, 85, 90]
plt.scatter(study_hours , exam_scores , c =exam_scores , cmap = "magma")   # cmap have verious colors plasma , magma , viridis , binary etc.....
plt.colorbar(label = "marks")   # add a colorbar to side

for i in range(len(study_hours)):  # adding annotations
    plt.annotate(f'Student {i+1}', (study_hours[i]-0.4, exam_scores[i]+1))

plt.xlabel("study hours")
plt.ylabel("exam hours")
plt.title("Study Hours Vs Exam Scores")
plt.grid()
plt.show()


# 2 scatter plots in one
class_a_hours = [2, 4, 6, 8]
class_a_scores = [45, 55, 65, 85]
class_b_hours = [1, 3, 5, 7, 9]
class_b_scores = [40, 50, 60, 70, 90]
plt.scatter(class_a_hours, class_a_scores, label='Class A', color='blue')
plt.scatter(class_b_hours, class_b_scores, label='Class B', color='orange')
plt.title('Scatter Plot: Class A vs Class B')
plt.xlabel('Study Hours')
plt.ylabel('Exam Score')
plt.legend()
plt.grid(True)
plt.show()



