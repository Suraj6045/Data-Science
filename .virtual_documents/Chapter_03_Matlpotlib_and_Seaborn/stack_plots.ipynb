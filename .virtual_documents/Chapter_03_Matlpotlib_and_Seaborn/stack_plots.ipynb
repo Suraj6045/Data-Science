import matplotlib.pyplot as plt
activities = ['Studying', 'Playing', 'Watching TV', 'Sleeping']
time_spent = [3, 2, 2, 5] # hours in a day
plt.pie(time_spent , labels = activities , autopct = "%.1f%%")
plt.title("Time Usage")
plt.show()


days = [1, 2, 3, 4, 5, 6, 7] # Days of the week
studying = [3, 4, 3, 5, 4, 3, 4]
playing = [2, 2, 1, 1, 2, 3, 2]
watching_tv = [2, 1, 2, 2, 1, 1, 1]
sleeping = [5, 5, 6, 5, 6, 5, 5]
labels = ['Studying', 'Playing', 'Watching TV', 'Sleeping']
colors = ['skyblue', 'lightgreen', 'gold', 'lightcoral']
plt.figure(figsize=(10,6))
plt.stackplot(days , studying , playing , watching_tv , sleeping , labels = labels, colors = colors, alpha=0.8)
plt.legend()
plt.show()



