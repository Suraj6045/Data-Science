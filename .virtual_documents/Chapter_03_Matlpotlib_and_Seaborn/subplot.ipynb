import matplotlib.pyplot as plt
x = [1,2,3,4,5]
y1 = [1,4,9,16,25]
y2 = [2,4,6,8,10]
y3 = [3,6,9,12,15]
y4 = [1,8,27,64,125]

plt.subplot(2,2,1)
plt.plot(x,y1)
plt.xlabel("x")
plt.ylabel("f(x)")

plt.subplot(2,2,2)
plt.plot(x,y2)

plt.subplot(2,2,3)
plt.plot(x,y3)

plt.subplot(2,2,4)
plt.plot(x,y4)



