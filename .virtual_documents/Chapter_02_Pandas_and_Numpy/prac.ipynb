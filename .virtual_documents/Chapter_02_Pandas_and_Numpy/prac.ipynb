import pandas as pd
df = pd.DataFrame({
"Department": ["HR", "HR", "IT", "IT", "Marketing", "Marketing", "Sales", "Sales"],
"Team": ["A", "A", "B", "B", "C", "C", "D", "D"],
"Gender": ["M", "F", "M", "F", "M", "F", "M", "F"],
"Salary": [85, 90, 78, 85, 92, 88, 75, 80],
"Age": [23, 25, 30, 22, 28, 26, 21, 27],
"JoinDate": pd.to_datetime([
"2020-01-10", "2020-02-15", "2021-03-20", "2021-04-10",
"2020-05-30", "2020-06-25", "2021-07-15", "2021-08-01"])
})


df.groupby(["Department","Gender"])["Salary"].mean()


df.groupby("Team")["Salary"].agg(["mean", "max", "min"])


import pandas as pd
employees = pd.DataFrame({
"EmpID": [1, 2, 3],
"Name": ["Alice", "Bob", "Charlie"],
"DeptID": [10, 20, 30]
})
departments = pd.DataFrame({
"DeptID": [10, 20, 40],
"DeptName": ["HR", "Engineering", "Marketing"]
})


pd.concat(employees , departments , on="Dept_ID" , how = "outer")



