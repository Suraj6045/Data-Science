{
 "cells": [
  {
   "cell_type": "code",
   "execution_count": 1,
   "id": "8c472b5f-edfa-4ae7-a556-a09878a5a85f",
   "metadata": {},
   "outputs": [],
   "source": [
    "import json"
   ]
  },
  {
   "cell_type": "code",
   "execution_count": 16,
   "id": "47e4d4a4-8303-4350-81dc-39682db3fa15",
   "metadata": {},
   "outputs": [],
   "source": [
    "def clean_data(data):\n",
    "    # remove users without name\n",
    "    data[\"users\"] = [user for user in data[\"users\"] if user[\"name\"].strip()]\n",
    "\n",
    "    # remove duplicate friends\n",
    "    for user in data[\"users\"]:\n",
    "        user[\"friends\"] = list(set(user[\"friends\"]))\n",
    "\n",
    "    # remove users who dont have friends or any liked pages\n",
    "    data[\"users\"] = [user for user in data[\"users\"] if user[\"friends\"] or user[\"liked_pages\"]]\n",
    "\n",
    "    # remove either page from the pages having same id\n",
    "    unique_pages = {}\n",
    "    for page in data[\"pages\"]:\n",
    "        unique_pages[page[\"id\"]] = page\n",
    "\n",
    "    data[\"pages\"] = list(unique_pages.values())\n",
    "\n",
    "    return data"
   ]
  },
  {
   "cell_type": "code",
   "execution_count": 17,
   "id": "9aa52c87-d0ff-4459-a22b-4947b9bbf1b0",
   "metadata": {},
   "outputs": [],
   "source": [
    "# load json data\n",
    "with open(\"data2.json\",\"r\") as f:\n",
    "    data = json.load(f)\n",
    "    cleaned_data = clean_data(data)"
   ]
  },
  {
   "cell_type": "code",
   "execution_count": 18,
   "id": "be4e92df-87ff-4edf-ac82-ac186fae5fb3",
   "metadata": {},
   "outputs": [],
   "source": [
    "# dump cleaned data into a new json file\n",
    "with open(\"clean_data.json\",\"w\") as f:\n",
    "    json.dump(cleaned_data,f)"
   ]
  },
  {
   "cell_type": "code",
   "execution_count": null,
   "id": "293a010e-5ac7-498c-8af3-db11923affd7",
   "metadata": {},
   "outputs": [],
   "source": []
  }
 ],
 "metadata": {
  "kernelspec": {
   "display_name": "Python 3 (ipykernel)",
   "language": "python",
   "name": "python3"
  },
  "language_info": {
   "codemirror_mode": {
    "name": "ipython",
    "version": 3
   },
   "file_extension": ".py",
   "mimetype": "text/x-python",
   "name": "python",
   "nbconvert_exporter": "python",
   "pygments_lexer": "ipython3",
   "version": "3.13.4"
  }
 },
 "nbformat": 4,
 "nbformat_minor": 5
}
