{
 "cells": [
  {
   "cell_type": "code",
   "execution_count": 1,
   "id": "fb6fa4e5-78b7-47d8-8f01-9abff5c5fba7",
   "metadata": {},
   "outputs": [],
   "source": [
    "import json"
   ]
  },
  {
   "cell_type": "code",
   "execution_count": 2,
   "id": "753b7975-a0d1-40c8-9d05-892ff59f388b",
   "metadata": {},
   "outputs": [
    {
     "name": "stdout",
     "output_type": "stream",
     "text": [
      "{\n",
      "    \"users\": [\n",
      "        {\n",
      "            \"id\": 1,\n",
      "            \"name\": \"Amit\",\n",
      "            \"friends\": [\n",
      "                2,\n",
      "                3\n",
      "            ],\n",
      "            \"liked_pages\": [\n",
      "                101\n",
      "            ]\n",
      "        },\n",
      "        {\n",
      "            \"id\": 2,\n",
      "            \"name\": \"Priya\",\n",
      "            \"friends\": [\n",
      "                1,\n",
      "                4\n",
      "            ],\n",
      "            \"liked_pages\": [\n",
      "                102\n",
      "            ]\n",
      "        },\n",
      "        {\n",
      "            \"id\": 3,\n",
      "            \"name\": \"Rahul\",\n",
      "            \"friends\": [\n",
      "                1\n",
      "            ],\n",
      "            \"liked_pages\": [\n",
      "                101,\n",
      "                103\n",
      "            ]\n",
      "        },\n",
      "        {\n",
      "            \"id\": 4,\n",
      "            \"name\": \"Sara\",\n",
      "            \"friends\": [\n",
      "                2\n",
      "            ],\n",
      "            \"liked_pages\": [\n",
      "                104\n",
      "            ]\n",
      "        }\n",
      "    ],\n",
      "    \"pages\": [\n",
      "        {\n",
      "            \"id\": 101,\n",
      "            \"name\": \"Python Developers\"\n",
      "        },\n",
      "        {\n",
      "            \"id\": 102,\n",
      "            \"name\": \"Data Science Enthusiasts\"\n",
      "        },\n",
      "        {\n",
      "            \"id\": 103,\n",
      "            \"name\": \"AI & ML Community\"\n",
      "        },\n",
      "        {\n",
      "            \"id\": 104,\n",
      "            \"name\": \"Web Dev Hub\"\n",
      "        }\n",
      "    ]\n",
      "}\n"
     ]
    }
   ],
   "source": [
    "with open(\"data.json\",\"r\") as f:\n",
    "    data = json.load(f)\n",
    "    print(json.dumps(data,indent = 4))"
   ]
  },
  {
   "cell_type": "code",
   "execution_count": 3,
   "id": "6c67a117-238c-4ea9-a308-880d29f2652b",
   "metadata": {},
   "outputs": [
    {
     "name": "stdout",
     "output_type": "stream",
     "text": [
      "Amit has id = 1 and his friends are [2, 3] and his liked pages are [101]\n",
      "Priya has id = 2 and his friends are [1, 4] and his liked pages are [102]\n",
      "Rahul has id = 3 and his friends are [1] and his liked pages are [101, 103]\n",
      "Sara has id = 4 and his friends are [2] and his liked pages are [104]\n"
     ]
    }
   ],
   "source": [
    "for user in data[\"users\"]:\n",
    "    print(f\"{user[\"name\"]} has id = {user[\"id\"]} and his friends are {user[\"friends\"]} and his liked pages are {user[\"liked_pages\"]}\")\n"
   ]
  },
  {
   "cell_type": "code",
   "execution_count": 4,
   "id": "0335a9cc-3bbd-4b0c-8fcd-d06bffdfead3",
   "metadata": {},
   "outputs": [
    {
     "name": "stdout",
     "output_type": "stream",
     "text": [
      "101 : Python Developers\n",
      "102 : Data Science Enthusiasts\n",
      "103 : AI & ML Community\n",
      "104 : Web Dev Hub\n"
     ]
    }
   ],
   "source": [
    "for page in data[\"pages\"]:\n",
    "    print(f\"{page[\"id\"]} : {page[\"name\"]}\")"
   ]
  },
  {
   "cell_type": "code",
   "execution_count": null,
   "id": "50be09b5-2b49-4b8e-a30a-fc403e970416",
   "metadata": {},
   "outputs": [],
   "source": []
  }
 ],
 "metadata": {
  "kernelspec": {
   "display_name": "Python 3 (ipykernel)",
   "language": "python",
   "name": "python3"
  },
  "language_info": {
   "codemirror_mode": {
    "name": "ipython",
    "version": 3
   },
   "file_extension": ".py",
   "mimetype": "text/x-python",
   "name": "python",
   "nbconvert_exporter": "python",
   "pygments_lexer": "ipython3",
   "version": "3.13.4"
  }
 },
 "nbformat": 4,
 "nbformat_minor": 5
}
