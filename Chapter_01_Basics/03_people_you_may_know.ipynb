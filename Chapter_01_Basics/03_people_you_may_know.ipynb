{
 "cells": [
  {
   "cell_type": "code",
   "execution_count": 1,
   "id": "80c57a3c-ae35-48a5-ba42-448de7655b9e",
   "metadata": {},
   "outputs": [],
   "source": [
    "import json"
   ]
  },
  {
   "cell_type": "code",
   "execution_count": 2,
   "id": "16a91b91-f3c9-4a82-908e-245f3e53f714",
   "metadata": {},
   "outputs": [],
   "source": [
    "def suggestion(user_id,data):\n",
    "    for user in data[\"users\"]:\n",
    "        if user[\"id\"] == user_id:\n",
    "            # get all friends of a user in a list named friends\n",
    "            friends = []\n",
    "            for user in data[\"users\"]:\n",
    "                if user[\"id\"] == user_id:\n",
    "                    friends = user[\"friends\"]\n",
    "                    \n",
    "            # get all friends of all friends of the user \n",
    "            friends_friends = []\n",
    "            for user in data[\"users\"]:\n",
    "                for friend in friends:\n",
    "                    if user[\"id\"] == friend:\n",
    "                        friends_friends.extend(user[\"friends\"])\n",
    "                    \n",
    "            suggest = list(set(friends_friends).difference(set(friends)))\n",
    "            suggest.remove(user_id)\n",
    "            return suggest\n",
    "    \n",
    "    return []\n",
    "        \n",
    "    \n",
    "    "
   ]
  },
  {
   "cell_type": "code",
   "execution_count": 3,
   "id": "53c0d66e-e8a6-4a56-a8a1-506ea31169b8",
   "metadata": {},
   "outputs": [
    {
     "name": "stdout",
     "output_type": "stream",
     "text": [
      "[1, 2, 3, 4, 6, 7, 11, 13, 14, 15, 18, 22]\n"
     ]
    }
   ],
   "source": [
    "with open(\"massive_data.json\",\"r\") as f:\n",
    "    data = json.load(f)\n",
    "    print(suggestion(10,data))"
   ]
  },
  {
   "cell_type": "code",
   "execution_count": null,
   "id": "38c29618-8dab-48c8-8288-74a7441ef15d",
   "metadata": {},
   "outputs": [],
   "source": []
  }
 ],
 "metadata": {
  "kernelspec": {
   "display_name": "Python 3 (ipykernel)",
   "language": "python",
   "name": "python3"
  },
  "language_info": {
   "codemirror_mode": {
    "name": "ipython",
    "version": 3
   },
   "file_extension": ".py",
   "mimetype": "text/x-python",
   "name": "python",
   "nbconvert_exporter": "python",
   "pygments_lexer": "ipython3",
   "version": "3.12.7"
  }
 },
 "nbformat": 4,
 "nbformat_minor": 5
}
