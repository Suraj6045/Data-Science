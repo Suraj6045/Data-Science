{
 "cells": [
  {
   "cell_type": "code",
   "execution_count": 2,
   "id": "84768538-8150-49b0-bac5-57d0d7e4c30f",
   "metadata": {},
   "outputs": [],
   "source": [
    "import numpy as np\n",
    "import time"
   ]
  },
  {
   "cell_type": "code",
   "execution_count": 19,
   "id": "0b3e6dad-2050-45e3-9a57-c350f5121f2c",
   "metadata": {},
   "outputs": [
    {
     "name": "stdout",
     "output_type": "stream",
     "text": [
      "[ 2 54 60]\n",
      "[54 60 57]\n"
     ]
    }
   ],
   "source": [
    "arr = np.array([[1.3,2,3],[4.7,5,6.5],[7,8.9,9]])\n",
    "arr1 = np.array([1,2,3,54,5,60,57,8,9])\n",
    "arr = arr.astype(\"int32\")\n",
    "print(arr1[[1, 3, 5]])\n",
    "arr1 = arr1.reshape((3,3))\n",
    "print(arr1[arr1>50])"
   ]
  },
  {
   "cell_type": "code",
   "execution_count": null,
   "id": "cfd7e7c6-f2fd-4cec-adf7-c19f553f497c",
   "metadata": {},
   "outputs": [],
   "source": []
  },
  {
   "cell_type": "code",
   "execution_count": null,
   "id": "26989c6f-6c13-40cd-8cd3-4164e04ed264",
   "metadata": {},
   "outputs": [],
   "source": []
  },
  {
   "cell_type": "code",
   "execution_count": null,
   "id": "9e59aad4-5446-4424-a60c-0c2a0a3322b6",
   "metadata": {},
   "outputs": [],
   "source": []
  }
 ],
 "metadata": {
  "kernelspec": {
   "display_name": "Python 3 (ipykernel)",
   "language": "python",
   "name": "python3"
  },
  "language_info": {
   "codemirror_mode": {
    "name": "ipython",
    "version": 3
   },
   "file_extension": ".py",
   "mimetype": "text/x-python",
   "name": "python",
   "nbconvert_exporter": "python",
   "pygments_lexer": "ipython3",
   "version": "3.12.7"
  }
 },
 "nbformat": 4,
 "nbformat_minor": 5
}
