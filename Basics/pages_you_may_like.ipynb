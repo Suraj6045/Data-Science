{
 "cells": [
  {
   "cell_type": "code",
   "execution_count": 2,
   "id": "40529929-6617-41cf-b2f4-488b5c0757f9",
   "metadata": {},
   "outputs": [],
   "source": [
    "import json"
   ]
  },
  {
   "cell_type": "code",
   "execution_count": 6,
   "id": "2f8e0b0a-fbad-4f8e-9a79-2c5ccb491317",
   "metadata": {},
   "outputs": [],
   "source": [
    "with open(\"massive_data.json\",\"r\") as f:\n",
    "    data = json.load(f)"
   ]
  },
  {
   "cell_type": "code",
   "execution_count": 33,
   "id": "34122eb7-e24e-4a74-8412-435404e29112",
   "metadata": {},
   "outputs": [],
   "source": [
    "def like(data,id):\n",
    "    other_pages = [user[\"liked_pages\"] for user in data[\"users\"]]\n",
    "    my_pages = [user[\"liked_pages\"] for user in data[\"users\"] if user[\"id\"]==id][0]\n",
    "    recom = []\n",
    "    for i in range(0,len(other_pages)):\n",
    "        for j in other_pages[i]:\n",
    "            if j in my_pages:\n",
    "                recom.extend(other_pages[i])\n",
    "\n",
    "    recom = set(recom)\n",
    "    recom = recom.difference(set(my_pages))\n",
    "    recom = list(recom)\n",
    "    print(recom)\n",
    "                \n",
    "            \n",
    "            \n",
    "            \n",
    "         \n",
    "        "
   ]
  },
  {
   "cell_type": "code",
   "execution_count": 34,
   "id": "571586be-90e4-4ef2-853c-cbbe1e0bf7ad",
   "metadata": {},
   "outputs": [
    {
     "name": "stdout",
     "output_type": "stream",
     "text": [
      "[101, 102]\n",
      "[105, 107, 103]\n"
     ]
    }
   ],
   "source": [
    "like(data,1)"
   ]
  },
  {
   "cell_type": "code",
   "execution_count": null,
   "id": "dadbe068-ae69-45a6-a878-fffc5661a931",
   "metadata": {},
   "outputs": [],
   "source": []
  }
 ],
 "metadata": {
  "kernelspec": {
   "display_name": "Python 3 (ipykernel)",
   "language": "python",
   "name": "python3"
  },
  "language_info": {
   "codemirror_mode": {
    "name": "ipython",
    "version": 3
   },
   "file_extension": ".py",
   "mimetype": "text/x-python",
   "name": "python",
   "nbconvert_exporter": "python",
   "pygments_lexer": "ipython3",
   "version": "3.12.7"
  }
 },
 "nbformat": 4,
 "nbformat_minor": 5
}
